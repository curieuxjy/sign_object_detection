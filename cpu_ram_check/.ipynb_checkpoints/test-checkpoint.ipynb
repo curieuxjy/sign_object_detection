{
 "cells": [
  {
   "cell_type": "markdown",
   "metadata": {},
   "source": [
    "[How to get current CPU and RAM usage in Python?](https://stackoverflow.com/questions/276052/how-to-get-current-cpu-and-ram-usage-in-python)\n",
    "\n",
    "[psutil을 사용해서 python의 CPU, RAM](https://frhyme.github.io/python/python_check_memory_usage/)\n",
    "\n",
    "[python에서 프로세스의 cpu 사용량과 memory 사용량 체크하기](https://helloyjam.github.io/python/check-cpu-and-memory/)"
   ]
  },
  {
   "cell_type": "code",
   "execution_count": 1,
   "metadata": {},
   "outputs": [
    {
     "name": "stdout",
     "output_type": "stream",
     "text": [
      "== sys.getsizeof\n",
      "sys.getsizeof(test_lst): 9024\n",
      "sys.getsizeof(test_lst): 9024\n",
      "sys.getsizeof(test_dict): 36968\n"
     ]
    }
   ],
   "source": [
    "###################################\n",
    "# sys.getsizeof()\n",
    "# Return the size of an object in bytes.\n",
    "# 이를 사용하면, 간단하게 크기를 비교할 수 있다.\n",
    "import sys\n",
    "N = 1000\n",
    "print(\"== sys.getsizeof\")\n",
    "# 그러나, 아래와 같이 string이 container의 내부 요소로 포함된 경우에는 정확한 크기를 측정하지 못한다.\n",
    "# 이는 python에서 string은 object이며, 위치 정보(가령 pointer)만 저장하고 전체 크기까지 함께 저장하고 있지 않기 때문이다\n",
    "# 만약 정확한 크기를 파악하고 싶다면, 내부 요소의 타입까지 고려하여 계산해야 한다.\n",
    "assert sys.getsizeof(['aaaa', 1])==sys.getsizeof(['aaaa', 'asdfsdafdsfasf'])\n",
    "\n",
    "test_lst_int = [i for i in range(0, N)]\n",
    "test_lst_tuple = [(f\"k{i}\", i) for i in range(0, N)]\n",
    "test_dict = {f\"k{i}\":i for i in range(0, N)}\n",
    "# 내부 요소가 tuple로 되어 있는 경우인 test_lst_int 와 test_lst_tuple의 크기가 같다.\n",
    "print(f\"sys.getsizeof(test_lst): {sys.getsizeof(test_lst_int)}\")\n",
    "print(f\"sys.getsizeof(test_lst): {sys.getsizeof(test_lst_tuple)}\")\n",
    "print(f\"sys.getsizeof(test_dict): {sys.getsizeof(test_dict)}\")"
   ]
  },
  {
   "cell_type": "code",
   "execution_count": 2,
   "metadata": {},
   "outputs": [
    {
     "name": "stdout",
     "output_type": "stream",
     "text": [
      "========================================\n",
      "== memory usage check\n",
      "==  0 exec\n",
      "BEFORE CODE: memory_usage_percent: 54.1%\n",
      "BEFORE CODE: Current memory KB   :    54.203 KB\n",
      "AFTER  CODE: memory_usage_percent: 56.2%\n",
      "AFTER  CODE: Current memory KB   :   402.020 KB\n",
      "------------------------------------------------------------\n",
      "==  1 exec\n",
      "BEFORE CODE: memory_usage_percent: 54.1%\n",
      "BEFORE CODE: Current memory KB   :    54.914 KB\n",
      "AFTER  CODE: memory_usage_percent: 56.0%\n",
      "AFTER  CODE: Current memory KB   :   401.934 KB\n",
      "------------------------------------------------------------\n"
     ]
    }
   ],
   "source": [
    "###################################\n",
    "# memory check.\n",
    "# 1) 그냥 현재 memory usage 정보를 그대로 가져오는 경우\n",
    "# 2) 현재 process id를 통해 해당 프로세스의 memory usage를 정확하게 비교하는 경우\n",
    "import psutil\n",
    "import os\n",
    "\n",
    "print(\"==\"*20)\n",
    "print(\"== memory usage check\")\n",
    "\n",
    "for exec_num in range(0, 2):\n",
    "    # BEFORE code\n",
    "    print(f\"== {exec_num:2d} exec\")\n",
    "    # general RAM usage\n",
    "    memory_usage_dict = dict(psutil.virtual_memory()._asdict())\n",
    "    memory_usage_percent = memory_usage_dict['percent']\n",
    "    print(f\"BEFORE CODE: memory_usage_percent: {memory_usage_percent}%\")\n",
    "    # current process RAM usage\n",
    "    pid = os.getpid()\n",
    "    current_process = psutil.Process(pid)\n",
    "    current_process_memory_usage_as_KB = current_process.memory_info()[0] / 2.**20\n",
    "    print(f\"BEFORE CODE: Current memory KB   : {current_process_memory_usage_as_KB: 9.3f} KB\")\n",
    "\n",
    "    X = [i for i in range(0, 9000000)]\n",
    "    # AFTER  code\n",
    "    memory_usage_dict = dict(psutil.virtual_memory()._asdict())\n",
    "    memory_usage_percent = memory_usage_dict['percent']\n",
    "    print(f\"AFTER  CODE: memory_usage_percent: {memory_usage_percent}%\")\n",
    "    # current process RAM usage\n",
    "    pid = os.getpid()\n",
    "    current_process = psutil.Process(pid)\n",
    "    current_process_memory_usage_as_KB = current_process.memory_info()[0] / 2.**20\n",
    "    print(f\"AFTER  CODE: Current memory KB   : {current_process_memory_usage_as_KB: 9.3f} KB\")\n",
    "    del X\n",
    "    print(\"--\"*30)"
   ]
  },
  {
   "cell_type": "markdown",
   "metadata": {},
   "source": [
    "# 2"
   ]
  },
  {
   "cell_type": "code",
   "execution_count": 3,
   "metadata": {},
   "outputs": [],
   "source": [
    "import os\n",
    "import psutil\n",
    "\n",
    "def _check_usage_of_cpu_and_memory():\n",
    "    \n",
    "    pid = os.getpid()\n",
    "    py  = psutil.Process(pid)\n",
    "    \n",
    "    cpu_usage   = os.popen(\"ps aux | grep \" + str(pid) + \" | grep -v grep | awk '{print $3}'\").read()\n",
    "    cpu_usage   = cpu_usage.replace(\"\\n\",\"\")\n",
    "    \n",
    "    memory_usage  = round(py.memory_info()[0] /2.**30, 2)\n",
    "    \n",
    "    print(\"cpu usage\\t\\t:\", cpu_usage, \"%\")\n",
    "    print(\"memory usage\\t\\t:\", memory_usage, \"%\")"
   ]
  },
  {
   "cell_type": "code",
   "execution_count": 4,
   "metadata": {},
   "outputs": [
    {
     "name": "stdout",
     "output_type": "stream",
     "text": [
      "cpu usage\t\t:  %\n",
      "memory usage\t\t: 0.08 %\n"
     ]
    }
   ],
   "source": [
    "_check_usage_of_cpu_and_memory()"
   ]
  },
  {
   "cell_type": "code",
   "execution_count": 6,
   "metadata": {},
   "outputs": [
    {
     "ename": "ModuleNotFoundError",
     "evalue": "No module named 'tensorflow'",
     "output_type": "error",
     "traceback": [
      "\u001b[1;31m---------------------------------------------------------------------------\u001b[0m",
      "\u001b[1;31mModuleNotFoundError\u001b[0m                       Traceback (most recent call last)",
      "\u001b[1;32m<ipython-input-6-7b17b8e47af0>\u001b[0m in \u001b[0;36m<module>\u001b[1;34m\u001b[0m\n\u001b[0;32m      2\u001b[0m \u001b[1;32mimport\u001b[0m \u001b[0mcv2\u001b[0m\u001b[1;33m\u001b[0m\u001b[1;33m\u001b[0m\u001b[0m\n\u001b[0;32m      3\u001b[0m \u001b[1;32mimport\u001b[0m \u001b[0mnumpy\u001b[0m \u001b[1;32mas\u001b[0m \u001b[0mnp\u001b[0m\u001b[1;33m\u001b[0m\u001b[1;33m\u001b[0m\u001b[0m\n\u001b[1;32m----> 4\u001b[1;33m \u001b[1;32mimport\u001b[0m \u001b[0mtensorflow\u001b[0m \u001b[1;32mas\u001b[0m \u001b[0mtf\u001b[0m\u001b[1;33m\u001b[0m\u001b[1;33m\u001b[0m\u001b[0m\n\u001b[0m\u001b[0;32m      5\u001b[0m \u001b[1;32mimport\u001b[0m \u001b[0msys\u001b[0m\u001b[1;33m\u001b[0m\u001b[1;33m\u001b[0m\u001b[0m\n\u001b[0;32m      6\u001b[0m \u001b[1;32mimport\u001b[0m \u001b[0mtime\u001b[0m\u001b[1;33m\u001b[0m\u001b[1;33m\u001b[0m\u001b[0m\n",
      "\u001b[1;31mModuleNotFoundError\u001b[0m: No module named 'tensorflow'"
     ]
    }
   ],
   "source": [
    "import os\n",
    "import cv2\n",
    "import numpy as np\n",
    "import tensorflow as tf\n",
    "import sys\n",
    "import time\n",
    "from object_detection.utils import label_map_util\n",
    "from object_detection.utils import visualization_utils as vis_util\n",
    "\n",
    "\n",
    "PATH_TO_CKPT = \"D:/GitHub/traffic_sign_object_detection/fine_tuned_model/frozen_inference_graph.pb\"\n",
    "PATH_TO_LABELS = \"D:/GitHub/traffic_sign_object_detection/data/annotations/label_map.pbtxt\"\n",
    "\n",
    "NUM_CLASSES = 5\n",
    "\n",
    "label_map = label_map_util.load_labelmap(PATH_TO_LABELS)\n",
    "categories = label_map_util.convert_label_map_to_categories(label_map, max_num_classes=NUM_CLASSES, use_display_name=True)\n",
    "category_index = label_map_util.create_category_index(categories)\n",
    "\n",
    "detection_graph = tf.Graph()\n",
    "with detection_graph.as_default():\n",
    "    od_graph_def = tf.GraphDef()\n",
    "    with tf.gfile.GFile(PATH_TO_CKPT, 'rb') as fid:\n",
    "        serialized_graph = fid.read()\n",
    "        od_graph_def.ParseFromString(serialized_graph)\n",
    "        tf.import_graph_def(od_graph_def, name='')\n",
    "\n",
    "    sess = tf.Session(graph=detection_graph)\n",
    "\n",
    "image_tensor = detection_graph.get_tensor_by_name('image_tensor:0')\n",
    "detection_boxes = detection_graph.get_tensor_by_name('detection_boxes:0')\n",
    "\n",
    "detection_scores = detection_graph.get_tensor_by_name('detection_scores:0')\n",
    "detection_classes = detection_graph.get_tensor_by_name('detection_classes:0')\n",
    "\n",
    "num_detections = detection_graph.get_tensor_by_name('num_detections:0')\n",
    "\n",
    "# Initialize webcam feed\n",
    "video = cv2.VideoCapture(0) # 0:web_cam 1:logitech\n",
    "ret = video.set(3,720) \n",
    "ret = video.set(4,720)\n",
    "\n",
    "a_dict = {\"bicycle\": 1, \"child\":2, \"const\":3, \"bump\":2, \"cross\":4, \"\":0}\n",
    "\n",
    "while(True):\n",
    "    temp_list = []\n",
    "    while len(temp_list) < 5:\n",
    "    # start_1 = time.time() # 시작\n",
    "        ret, frame = video.read()\n",
    "        print(\"------one-frame-------\")\n",
    "        frame_rgb = cv2.cvtColor(frame, cv2.COLOR_BGR2RGB)\n",
    "        frame_expanded = np.expand_dims(frame_rgb, axis=0)\n",
    "\n",
    "        # Perform the actual detection by running the model with the image as input\n",
    "        # start_2 = time.time()\n",
    "        (boxes, scores, classes, num) = sess.run(\n",
    "            [detection_boxes, detection_scores, detection_classes, num_detections],\n",
    "            feed_dict={image_tensor: frame_expanded})\n",
    "        # print(\"sess.run 시간: \", time.time()-start_2)\n",
    "        print(\"-------display-visulalization-start-----\")\n",
    "        \n",
    "        disp_name = vis_util.visualize_boxes_and_labels_on_image_array(\n",
    "            frame,\n",
    "            np.squeeze(boxes),\n",
    "            np.squeeze(classes).astype(np.int32),\n",
    "            np.squeeze(scores),\n",
    "            category_index,\n",
    "            use_normalized_coordinates=True,\n",
    "            line_thickness=8,\n",
    "            min_score_thresh=0.6\n",
    "            )\n",
    "            # name:percentage\n",
    "            \n",
    "        disp_name = disp_name.split(\":\")[0]\n",
    "        print(disp_name)\n",
    "        # print(\"한 프레임 판단 시간: \", time.time()-start_1)\n",
    "\n",
    "        print(\"change string to number\")\n",
    "        num_result = 0\n",
    "        if disp_name == \"bicycle\":\n",
    "            num_result = a_dict[\"bicycle\"]\n",
    "        elif disp_name == \"child\":\n",
    "            num_result = a_dict[\"child\"]\n",
    "        elif disp_name == \"const\":\n",
    "            num_result = a_dict[\"const\"]\n",
    "        elif disp_name == \"bump\":\n",
    "            num_result = a_dict[\"bump\"]\n",
    "        elif disp_name == \"cross\":\n",
    "            num_result = a_dict[\"cross\"]\n",
    "        temp_list.append(num_result)\n",
    "\n",
    "    print(temp_list)\n",
    "    num_1 = temp_list.count(1)\n",
    "    num_2 = temp_list.count(2)\n",
    "    num_3 = temp_list.count(3)\n",
    "    num_4 = temp_list.count(4)\n",
    "    # num_5 = temp_list.count(5)\n",
    "\n",
    "    result = 0\n",
    "    if num_1 >= 3:\n",
    "        result = 1\n",
    "    elif num_2 >= 3:\n",
    "        result = 2\n",
    "    elif num_3 >= 3:\n",
    "        result = 3\n",
    "    elif num_4 >= 3:\n",
    "        result = 4\n",
    "    else:\n",
    "        print(\"nothing! result will be 0\")\n",
    "\n",
    "    str_result = str(result)\n",
    "\n",
    "\n",
    "video.release()\n",
    "cv2.destroyAllWindows()\n"
   ]
  },
  {
   "cell_type": "code",
   "execution_count": null,
   "metadata": {},
   "outputs": [],
   "source": []
  }
 ],
 "metadata": {
  "kernelspec": {
   "display_name": "Python 3",
   "language": "python",
   "name": "python3"
  },
  "language_info": {
   "codemirror_mode": {
    "name": "ipython",
    "version": 3
   },
   "file_extension": ".py",
   "mimetype": "text/x-python",
   "name": "python",
   "nbconvert_exporter": "python",
   "pygments_lexer": "ipython3",
   "version": "3.7.4"
  }
 },
 "nbformat": 4,
 "nbformat_minor": 4
}
