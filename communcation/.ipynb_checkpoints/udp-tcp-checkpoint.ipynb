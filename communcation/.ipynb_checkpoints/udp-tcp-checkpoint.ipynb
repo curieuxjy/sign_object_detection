{
 "cells": [
  {
   "cell_type": "markdown",
   "metadata": {},
   "source": [
    "# Socket 통신\n",
    "* tcp: reciever를 먼저 열고 sender를 열어야 함\n",
    "    * [buffer](https://brownbears.tistory.com/207)\n",
    "* udp"
   ]
  },
  {
   "cell_type": "markdown",
   "metadata": {},
   "source": [
    "## tcp-sender(client)"
   ]
  },
  {
   "cell_type": "code",
   "execution_count": 12,
   "metadata": {},
   "outputs": [
    {
     "ename": "ConnectionRefusedError",
     "evalue": "[WinError 10061] 대상 컴퓨터에서 연결을 거부했으므로 연결하지 못했습니다",
     "output_type": "error",
     "traceback": [
      "\u001b[1;31m---------------------------------------------------------------------------\u001b[0m",
      "\u001b[1;31mConnectionRefusedError\u001b[0m                    Traceback (most recent call last)",
      "\u001b[1;32m<ipython-input-12-0e35c0066ae8>\u001b[0m in \u001b[0;36m<module>\u001b[1;34m\u001b[0m\n\u001b[0;32m      3\u001b[0m \u001b[1;31m# socket 만들기\u001b[0m\u001b[1;33m\u001b[0m\u001b[1;33m\u001b[0m\u001b[1;33m\u001b[0m\u001b[0m\n\u001b[0;32m      4\u001b[0m \u001b[0msock\u001b[0m \u001b[1;33m=\u001b[0m \u001b[0msocket\u001b[0m\u001b[1;33m.\u001b[0m\u001b[0msocket\u001b[0m\u001b[1;33m(\u001b[0m\u001b[0msocket\u001b[0m\u001b[1;33m.\u001b[0m\u001b[0mAF_INET\u001b[0m\u001b[1;33m,\u001b[0m \u001b[0msocket\u001b[0m\u001b[1;33m.\u001b[0m\u001b[0mSOCK_STREAM\u001b[0m\u001b[1;33m)\u001b[0m\u001b[1;33m\u001b[0m\u001b[1;33m\u001b[0m\u001b[0m\n\u001b[1;32m----> 5\u001b[1;33m \u001b[0msock\u001b[0m\u001b[1;33m.\u001b[0m\u001b[0mconnect\u001b[0m\u001b[1;33m(\u001b[0m\u001b[1;33m(\u001b[0m\u001b[1;34m\"192.168.1.157\"\u001b[0m\u001b[1;33m,\u001b[0m \u001b[1;36m9999\u001b[0m\u001b[1;33m)\u001b[0m\u001b[1;33m)\u001b[0m\u001b[1;33m\u001b[0m\u001b[1;33m\u001b[0m\u001b[0m\n\u001b[0m\u001b[0;32m      6\u001b[0m \u001b[1;31m#ip 주소, port 번호(사용중인 번호만 아니면 모든 int 가능)\u001b[0m\u001b[1;33m\u001b[0m\u001b[1;33m\u001b[0m\u001b[1;33m\u001b[0m\u001b[0m\n\u001b[0;32m      7\u001b[0m \u001b[1;33m\u001b[0m\u001b[0m\n",
      "\u001b[1;31mConnectionRefusedError\u001b[0m: [WinError 10061] 대상 컴퓨터에서 연결을 거부했으므로 연결하지 못했습니다"
     ]
    }
   ],
   "source": [
    "import socket\n",
    "\n",
    "# socket 만들기\n",
    "sock = socket.socket(socket.AF_INET, socket.SOCK_STREAM)\n",
    "sock.connect((\"192.168.99.1\", 9999)) \n",
    "#ip 주소, port 번호(사용중인 번호만 아니면 모든 int 가능)\n",
    "\n",
    "# message 작성\n",
    "test_msg = \"abcd\" # 판단 1\n",
    "sock.send(test_msg.encode())\n",
    "\n",
    "# message 받기\n",
    "data_size = 1024\n",
    "data = sock.recv(data_size)\n",
    "# print(data.decode())\n",
    "\n",
    "# 연결 종료\n",
    "sock.close()"
   ]
  },
  {
   "cell_type": "markdown",
   "metadata": {},
   "source": [
    "### 2"
   ]
  },
  {
   "cell_type": "code",
   "execution_count": null,
   "metadata": {},
   "outputs": [
    {
     "name": "stdin",
     "output_type": "stream",
     "text": [
      "-> 1\n",
      "-> 2\n",
      "-> hello\n"
     ]
    }
   ],
   "source": [
    "import socket\n",
    "\n",
    "# socket 만들기\n",
    "sock = socket.socket(socket.AF_INET, socket.SOCK_STREAM)\n",
    "sock.connect((\"192.168.99.1\", 9999)) \n",
    "#ip 주소, port 번호(사용중인 번호만 아니면 모든 int 가능)\n",
    "\n",
    "# message 작성\n",
    "while True:\n",
    "    msg = input(\"->\")\n",
    "    sock.send(msg.encode())\n",
    "    # message 받기\n",
    "    data_size = 1024\n",
    "    data = sock.recv(data_size)\n",
    "    # print(data.decode())\n",
    "# 연결 종료\n",
    "sock.close()"
   ]
  },
  {
   "cell_type": "code",
   "execution_count": 3,
   "metadata": {},
   "outputs": [],
   "source": [
    "# 3(1변경)\n",
    "import socket\n",
    "\n",
    "# socket 만들기\n",
    "sock = socket.socket(socket.AF_INET, socket.SOCK_STREAM)\n",
    "sock.connect((\"192.168.99.1\", 9999)) # \"localhost\"\n",
    "# ip 주소, port 번호(사용중인 번호만 아니면 모든 int 가능)\n",
    "\n",
    "# message 작성\n",
    "test_msg = \"1\" # 판단 1\n",
    "sock.send(test_msg.encode())\n",
    "\n",
    "# message 받기\n",
    "bufferSize = sock.getsockopt(socket.SOL_SOCKET, socket.SO_SNDBUF)\n",
    "# sbuff = bytes(test_msg, encoding='utf-8')\n",
    "#sock.send(sbuff)\n",
    "\n",
    "#data_size = 1024\n",
    "data = sock.recv(bufferSize)\n",
    "# print(data.decode())\n",
    "\n",
    "# 연결 종료\n",
    "sock.close()"
   ]
  },
  {
   "cell_type": "markdown",
   "metadata": {},
   "source": [
    "## tcp-receiver(server)\n",
    "받는 부분, 서버쪽의 tcp source"
   ]
  },
  {
   "cell_type": "code",
   "execution_count": null,
   "metadata": {},
   "outputs": [],
   "source": [
    "import socket\n",
    "\n",
    "sock = socket.socket(socket.AF_INET, socket.SOCK_STREAM)\n",
    "recv_address = ('192.168.99.1', 9999) \n",
    "sock.bind(recv_address)\n",
    "\n",
    "sock.listen(1)\n",
    "\n",
    "conn, addr = sock.accept()\n",
    "# buffer size 확인 필요\n",
    "BUFFER_SIZE = 512\n",
    "# 받고 보내는 loop\n",
    "while 1:\n",
    "    data = conn.recv(BUFFER_SIZE)\n",
    "    # 받고 data를 돌려줌\n",
    "    conn.send(data)\n",
    "    \n",
    "conn.close()"
   ]
  },
  {
   "cell_type": "markdown",
   "metadata": {},
   "source": [
    "## udp-sender"
   ]
  },
  {
   "cell_type": "code",
   "execution_count": 1,
   "metadata": {},
   "outputs": [],
   "source": [
    "import socket\n",
    "\n",
    "# 연결 생성\n",
    "send_sock = socket.socket(socket.AF_INET, socket.SOCK_DGRAM)\n",
    "dest = (\"192.168.99.1\", 9999)\n",
    "message = \"hello world\"\n",
    "# encode\n",
    "# data = message.encode()\n",
    "data = bytes(message, encoding='utf-8')\n",
    "\n",
    "# 목적지에 보내기\n",
    "send_sock.sendto(data, dest)\n",
    "send_sock.close()"
   ]
  },
  {
   "cell_type": "markdown",
   "metadata": {},
   "source": [
    "## udp-receiver"
   ]
  },
  {
   "cell_type": "code",
   "execution_count": null,
   "metadata": {},
   "outputs": [],
   "source": [
    "import socket\n",
    "\n",
    "# socket 만들기\n",
    "sock = socket.socket(socket.AF_INET, socket.SOCK_DGRAM)\n",
    "\n",
    "# (ip주소, port 번호)\n",
    "recv_address = ('192.168.99.1', 9999)\n",
    "sock.bind(recv_address)\n",
    "\n",
    "# 데이터 사이즈??\n",
    "data_size = 512\n",
    "while 1:\n",
    "    # 메세지(data)를 읽고 client(sender)의 주소도 같이 가져옴\n",
    "    data, sender = sock.recvfrom(data_size)\n",
    "\n",
    "# 메세지(data)를 읽고 클라이언트로 다시 돌려줌\n",
    "\n",
    "sock.close()"
   ]
  },
  {
   "cell_type": "code",
   "execution_count": null,
   "metadata": {},
   "outputs": [],
   "source": []
  }
 ],
 "metadata": {
  "kernelspec": {
   "display_name": "Python 3",
   "language": "python",
   "name": "python3"
  },
  "language_info": {
   "codemirror_mode": {
    "name": "ipython",
    "version": 3
   },
   "file_extension": ".py",
   "mimetype": "text/x-python",
   "name": "python",
   "nbconvert_exporter": "python",
   "pygments_lexer": "ipython3",
   "version": "3.7.4"
  }
 },
 "nbformat": 4,
 "nbformat_minor": 4
}
