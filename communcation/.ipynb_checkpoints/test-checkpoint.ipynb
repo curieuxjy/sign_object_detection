{
 "cells": [
  {
   "cell_type": "markdown",
   "metadata": {},
   "source": [
    "# tcp reciever"
   ]
  },
  {
   "cell_type": "code",
   "execution_count": 3,
   "metadata": {},
   "outputs": [
    {
     "name": "stdout",
     "output_type": "stream",
     "text": [
      "1\n"
     ]
    }
   ],
   "source": [
    "import socket\n",
    "\n",
    "sock = socket.socket(socket.AF_INET, socket.SOCK_STREAM)\n",
    "recv_address = ('192.168.99.1', 9999) \n",
    "sock.bind(recv_address)\n",
    "\n",
    "sock.listen() #안에 넣어주는 1의 의미\n",
    "\n",
    "conn, addr = sock.accept()\n",
    "# buffer size 확인 필요\n",
    "BUFFER_SIZE = 1024\n",
    "# 받고 보내는 loop\n",
    "while 1:\n",
    "    data = conn.recv(BUFFER_SIZE).decode()\n",
    "    # 받고 data를 돌려줌\n",
    "    if not data:\n",
    "        break\n",
    "    print(data)\n",
    "    capitalized = data.upper()\n",
    "    # 다시 sending\n",
    "    conn.send(capitalized.encode())\n",
    "    \n",
    "sock.close()"
   ]
  },
  {
   "cell_type": "markdown",
   "metadata": {},
   "source": [
    "# udp receiver"
   ]
  },
  {
   "cell_type": "code",
   "execution_count": null,
   "metadata": {},
   "outputs": [
    {
     "name": "stdout",
     "output_type": "stream",
     "text": [
      "hello world\n"
     ]
    }
   ],
   "source": [
    "import socket\n",
    "\n",
    "# socket 만들기\n",
    "sock = socket.socket(socket.AF_INET, socket.SOCK_DGRAM)\n",
    "\n",
    "# (ip주소, port 번호)\n",
    "recv_address = ('192.168.99.1', 9999)\n",
    "sock.bind(recv_address)\n",
    "\n",
    "# 데이터 사이즈??\n",
    "data_size = 512\n",
    "while 1:\n",
    "    # 메세지(data)를 읽고 client(sender)의 주소도 같이 가져옴\n",
    "    data, sender = sock.recvfrom(data_size)\n",
    "    print(data.decode())\n",
    "\n",
    "# 메세지(data)를 읽고 클라이언트로 다시 돌려줌\n",
    "\n",
    "sock.close()"
   ]
  },
  {
   "cell_type": "code",
   "execution_count": null,
   "metadata": {},
   "outputs": [],
   "source": []
  }
 ],
 "metadata": {
  "kernelspec": {
   "display_name": "Python 3",
   "language": "python",
   "name": "python3"
  },
  "language_info": {
   "codemirror_mode": {
    "name": "ipython",
    "version": 3
   },
   "file_extension": ".py",
   "mimetype": "text/x-python",
   "name": "python",
   "nbconvert_exporter": "python",
   "pygments_lexer": "ipython3",
   "version": "3.7.4"
  }
 },
 "nbformat": 4,
 "nbformat_minor": 4
}
